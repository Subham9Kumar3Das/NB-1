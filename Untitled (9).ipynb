{
 "cells": [
  {
   "cell_type": "markdown",
   "id": "654f6369-2fff-4219-938a-c96abed2a50a",
   "metadata": {},
   "source": [
    "Q1. What is Bayes' theorem?\n",
    "Bayes' theorem is a mathematical formula that describes the probability of an event based on prior knowledge of conditions that might be related to the event. It is named after Thomas Bayes, an 18th-century statistician, and it forms the foundation of Bayesian statistics. The theorem is used to update probabilities as new evidence becomes available.\n",
    "\n",
    "Q2. What is the formula for Bayes' theorem?\n",
    "The formula for Bayes' theorem is given by:P(A|B)=P(A)P(B|A)/P(B)\n",
    "\n",
    "Q3. How is Bayes' theorem used in practice?\n",
    "Bayes' theorem is used in various fields, including statistics, machine learning, and artificial intelligence. It is commonly employed for tasks such as spam filtering, medical diagnosis, and pattern recognition. It allows for the updating of probabilities as new evidence is obtained, making it a powerful tool for decision-making under uncertainty.\n",
    "\n",
    "Q4. What is the relationship between Bayes' theorem and conditional probability?\n",
    "Bayes' theorem relates conditional probability (the probability of an event given another event) to prior probabilities. It provides a formal way to update or revise the probability of an event based on new evidence or information.\n",
    "\n",
    "Q5. How do you choose which type of Naive Bayes classifier to use for any given problem?\n",
    "The choice of the type of Naive Bayes classifier depends on the nature of the features in your dataset. The three common types are:\n",
    "\n",
    "Gaussian Naive Bayes: Assumes that the features follow a Gaussian (normal) distribution.\n",
    "Multinomial Naive Bayes: Suitable for discrete data, often used for text classification with word frequencies.\n",
    "Bernoulli Naive Bayes: Appropriate for binary features, where each feature is a binary variable"
   ]
  },
  {
   "cell_type": "code",
   "execution_count": null,
   "id": "a6c1daeb-1a8a-4e91-a9be-7594369d0f05",
   "metadata": {},
   "outputs": [],
   "source": [
    "Q6.\n",
    "P(A|x1=3,x1=4)=P(x1=3|A)*P(x2=4|A)*P(A) We can ignore denominator.\n",
    "              =4/10*3/13*0.5\n",
    "              =0.046\n",
    "        \n",
    "P(B|x1=3,x1=4)=P(x1=3|B)*P(x2=4|B)*P(B) We can ignore denominator.\n",
    "              =1/5*1/3*0.5"
   ]
  }
 ],
 "metadata": {
  "kernelspec": {
   "display_name": "Python 3 (ipykernel)",
   "language": "python",
   "name": "python3"
  },
  "language_info": {
   "codemirror_mode": {
    "name": "ipython",
    "version": 3
   },
   "file_extension": ".py",
   "mimetype": "text/x-python",
   "name": "python",
   "nbconvert_exporter": "python",
   "pygments_lexer": "ipython3",
   "version": "3.10.8"
  }
 },
 "nbformat": 4,
 "nbformat_minor": 5
}
